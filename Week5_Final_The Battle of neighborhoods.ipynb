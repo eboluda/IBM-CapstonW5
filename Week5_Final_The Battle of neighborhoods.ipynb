{
 "cells": [
  {
   "cell_type": "markdown",
   "metadata": {},
   "source": [
    "# Capstone Project - The Battle of neighborhoods"
   ]
  },
  {
   "cell_type": "markdown",
   "metadata": {},
   "source": [
    "### Introduction\n",
    "\n",
    "New York City's demographics show that it is a large and ethnically diverse metropolis. It is the largest city in the United States with a long history of international immigration. New York City has been a major point of entry for immigrants; the term \"melting pot\" was coined to describe densely populated immigrant neighborhoods on the Lower East Side. As many as 800 languages are spoken in New York, making it the most linguistically diverse city in the world. English remains the most widely spoken language, although there are areas in the outer boroughs in which up to 25% of people speak English as an alternate language, and/or have limited or no English language fluency. English is least spoken in neighborhoods such as Flushing, Sunset Park, and Corona.\n",
    "\n",
    "With it's diverse culture, comes diverse food items. There are many restaurants in New York City, each belonging to different categories like Chinese, Indian, French, etc.\n",
    "\n",
    "So the objective of this project is to list and visualize all major parts of New York City that have great Indian restaurants."
   ]
  },
  {
   "cell_type": "markdown",
   "metadata": {},
   "source": [
    "### Data \n",
    "#### New York City data that contains list Boroughs, Neighborhoods along with their latitude and longitude.\n",
    " \n",
    "Data source : https://cocl.us/new_york_dataset\n",
    "\n",
    "Description : This data set contains the required information. And we will use this data set to explore various neighborhoods of new york city.\n",
    " \n",
    "#### Indian restaurants in each neighborhood of new york city.\n",
    "        \n",
    "Data source : Foursquare API\n",
    "\n",
    "Description : By using this api we will get all the venues in each neighborhood. We can filter these venues to get only Indian restaurants.\n",
    "     \n",
    "#### GeoSpace data\n",
    "        \n",
    "Data source : https://data.cityofnewyork.us/City-Government/Borough-Boundaries/tqmj-j8zm\n",
    "\n",
    "Description : By using this geo space data we will get the New york Borough boundaries that will help us visualize choropleth map.\n",
    "  "
   ]
  },
  {
   "cell_type": "markdown",
   "metadata": {},
   "source": [
    "### Approach\n",
    "- Collect the new york city data from https://cocl.us/new_york_dataset\n",
    "- Using FourSquare API we will find all venues for each neighborhood.\n",
    "- Filter out all venues that are Indian Restaurants.\n",
    "- Find rating, tips and like count for each Indian Resturants using FourSquare API.\n",
    "- Using rating for each resturant, we will sort that data.\n",
    "- Visualize the Ranking of neighborhoods using folium library(python)"
   ]
  },
  {
   "cell_type": "markdown",
   "metadata": {},
   "source": [
    "### Results\n",
    "\n",
    "The results are carried out to give the answer of the following questions:\n",
    "\n",
    "What is the best location in New York City for Indian Cuisine?\n",
    "\n",
    "Which areas have a  potential Indian Restaurant Market?\n",
    "\n",
    "Which are some of the best neighborhoods for Indian cuisine?\n",
    "\n",
    "Which is the best place to stay if you prefer Indian Cuisine?\n",
    "\n",
    "##### Analysis is done with required python libraries\n",
    "\n",
    "- pandas and numpy for handling data.\n",
    "- request module for using FourSquare API.\n",
    "- geopy to get co-ordinates of City of New York.\n",
    "- folium to visualize the results on a map\n"
   ]
  },
  {
   "cell_type": "code",
   "execution_count": 3,
   "metadata": {},
   "outputs": [
    {
     "name": "stdout",
     "output_type": "stream",
     "text": [
      "Libraries imported.\n"
     ]
    }
   ],
   "source": [
    "import pandas as pd\n",
    "import numpy as np\n",
    "pd.set_option('display.max_columns', None)\n",
    "pd.set_option('display.max_rows', None)\n",
    "import requests\n",
    "from bs4 import BeautifulSoup\n",
    "import geocoder\n",
    "import os\n",
    "import folium # map rendering library\n",
    "from geopy.geocoders import Nominatim # convert an address into latitude and longitude values\n",
    "# Matplotlib and associated plotting modules\n",
    "import matplotlib.pyplot as plt\n",
    "import matplotlib.cm as cm\n",
    "import matplotlib.colors as colors\n",
    "%matplotlib inline\n",
    "\n",
    "\n",
    "print('Libraries imported.')"
   ]
  },
  {
   "cell_type": "code",
   "execution_count": 4,
   "metadata": {},
   "outputs": [],
   "source": [
    "def geo_location(address):\n",
    "    # get geo location of address\n",
    "    geolocator = Nominatim(user_agent=\"ny_explorer\")\n",
    "    location = geolocator.geocode(address)\n",
    "    latitude = location.latitude\n",
    "    longitude = location.longitude\n",
    "    return latitude,longitude"
   ]
  },
  {
   "cell_type": "code",
   "execution_count": 18,
   "metadata": {},
   "outputs": [],
   "source": [
    "def get_venues(lat,lng):\n",
    "    \n",
    "    #set variables\n",
    "    radius=1000\n",
    "    LIMIT=100\n",
    "   # CLIENT_ID = os.environ['CLIENT_ID'] # your Foursquare ID\n",
    "    #CLIENT_SECRET = os.environ['CLIENT_SECRET'] # your Foursquare Secret\n",
    "    #VERSION = '20180605' # Foursquare API version\n",
    "    CLIENT_ID = '4IHGX34AAOMXD14JMF2Y1AWXISOVL4OW0QV2EBUNBLS2IAWF' \n",
    "    CLIENT_SECRET = '1ZMVX20KHBV4CKG12J5CCHE4WOENR3EUCS0YFXALLM3SJAHE' \n",
    "    VERSION = '20180604'\n",
    "    \n",
    "    #url to fetch data from foursquare api\n",
    "    url = 'https://api.foursquare.com/v2/venues/explore?&client_id={}&client_secret={}&v={}&ll={},{}&radius={}&limit={}'.format(\n",
    "            CLIENT_ID, \n",
    "            CLIENT_SECRET, \n",
    "            VERSION, \n",
    "            lat, \n",
    "            lng, \n",
    "            radius, \n",
    "            LIMIT)\n",
    "    \n",
    "    # get all the data\n",
    "    results = requests.get(url).json()\n",
    "    venue_data=results[\"response\"]['groups'][0]['items']\n",
    "    venue_details=[]\n",
    "    for row in venue_data:\n",
    "        try:\n",
    "            venue_id=row['venue']['id']\n",
    "            venue_name=row['venue']['name']\n",
    "            venue_category=row['venue']['categories'][0]['name']\n",
    "            venue_details.append([venue_id,venue_name,venue_category])\n",
    "        except KeyError:\n",
    "            pass\n",
    "        \n",
    "    column_names=['ID','Name','Category']\n",
    "    df = pd.DataFrame(venue_details,columns=column_names)\n",
    "    return df"
   ]
  },
  {
   "cell_type": "code",
   "execution_count": 14,
   "metadata": {},
   "outputs": [],
   "source": [
    "def get_venue_details(venue_id):\n",
    "        \n",
    "    #CLIENT_ID = os.environ['CLIENT_ID'] # your Foursquare ID\n",
    "    #CLIENT_SECRET = os.environ['CLIENT_SECRET'] # your Foursquare Secret\n",
    "    #VERSION = '20180605' # Foursquare API version\n",
    "    CLIENT_ID = '4IHGX34AAOMXD14JMF2Y1AWXISOVL4OW0QV2EBUNBLS2IAWF' \n",
    "    CLIENT_SECRET = '1ZMVX20KHBV4CKG12J5CCHE4WOENR3EUCS0YFXALLM3SJAHE' \n",
    "    VERSION = '20180604'\n",
    "    #LIMIT = 30\n",
    "    \n",
    "    #url to fetch data from foursquare api\n",
    "    url = 'https://api.foursquare.com/v2/venues/{}?&client_id={}&client_secret={}&v={}'.format(\n",
    "            venue_id,\n",
    "            CLIENT_ID, \n",
    "            CLIENT_SECRET, \n",
    "            VERSION)\n",
    "    \n",
    "    # get all the data\n",
    "    results = requests.get(url).json()\n",
    "    venue_data=results['response']['venue']\n",
    "    venue_details=[]\n",
    "    try:\n",
    "        venue_id=venue_data['id']\n",
    "        venue_name=venue_data['name']\n",
    "        venue_likes=venue_data['likes']['count']\n",
    "        venue_rating=venue_data['rating']\n",
    "        venue_tips=venue_data['tips']['count']\n",
    "        venue_details.append([venue_id,venue_name,venue_likes,venue_rating,venue_tips])\n",
    "    except KeyError:\n",
    "        pass\n",
    "        \n",
    "    column_names=['ID','Name','Likes','Rating','Tips']\n",
    "    df = pd.DataFrame(venue_details,columns=column_names)\n",
    "    return df\n"
   ]
  },
  {
   "cell_type": "code",
   "execution_count": 7,
   "metadata": {},
   "outputs": [],
   "source": [
    "def get_new_york_data():\n",
    "    url='https://cocl.us/new_york_dataset'\n",
    "    resp=requests.get(url).json()\n",
    "    # all data is present in features label\n",
    "    features=resp['features']\n",
    "    \n",
    "    # define the dataframe columns\n",
    "    column_names = ['Borough', 'Neighborhood', 'Latitude', 'Longitude'] \n",
    "    # instantiate the dataframe\n",
    "    new_york_data = pd.DataFrame(columns=column_names)\n",
    "    \n",
    "    for data in features:\n",
    "        borough = data['properties']['borough'] \n",
    "        neighborhood_name = data['properties']['name']\n",
    "        \n",
    "        neighborhood_latlon = data['geometry']['coordinates']\n",
    "        neighborhood_lat = neighborhood_latlon[1]\n",
    "        neighborhood_lon = neighborhood_latlon[0]\n",
    "    \n",
    "        new_york_data = new_york_data.append({'Borough': borough,\n",
    "                                          'Neighborhood': neighborhood_name,\n",
    "                                          'Latitude': neighborhood_lat,\n",
    "                                          'Longitude': neighborhood_lon}, ignore_index=True)\n",
    "    \n",
    "    return new_york_data"
   ]
  },
  {
   "cell_type": "code",
   "execution_count": 8,
   "metadata": {},
   "outputs": [],
   "source": [
    "# get new york data\n",
    "new_york_data=get_new_york_data()"
   ]
  },
  {
   "cell_type": "code",
   "execution_count": 9,
   "metadata": {},
   "outputs": [
    {
     "data": {
      "text/html": [
       "<div>\n",
       "<style scoped>\n",
       "    .dataframe tbody tr th:only-of-type {\n",
       "        vertical-align: middle;\n",
       "    }\n",
       "\n",
       "    .dataframe tbody tr th {\n",
       "        vertical-align: top;\n",
       "    }\n",
       "\n",
       "    .dataframe thead th {\n",
       "        text-align: right;\n",
       "    }\n",
       "</style>\n",
       "<table border=\"1\" class=\"dataframe\">\n",
       "  <thead>\n",
       "    <tr style=\"text-align: right;\">\n",
       "      <th></th>\n",
       "      <th>Borough</th>\n",
       "      <th>Neighborhood</th>\n",
       "      <th>Latitude</th>\n",
       "      <th>Longitude</th>\n",
       "    </tr>\n",
       "  </thead>\n",
       "  <tbody>\n",
       "    <tr>\n",
       "      <th>0</th>\n",
       "      <td>Bronx</td>\n",
       "      <td>Wakefield</td>\n",
       "      <td>40.894705</td>\n",
       "      <td>-73.847201</td>\n",
       "    </tr>\n",
       "    <tr>\n",
       "      <th>1</th>\n",
       "      <td>Bronx</td>\n",
       "      <td>Co-op City</td>\n",
       "      <td>40.874294</td>\n",
       "      <td>-73.829939</td>\n",
       "    </tr>\n",
       "    <tr>\n",
       "      <th>2</th>\n",
       "      <td>Bronx</td>\n",
       "      <td>Eastchester</td>\n",
       "      <td>40.887556</td>\n",
       "      <td>-73.827806</td>\n",
       "    </tr>\n",
       "    <tr>\n",
       "      <th>3</th>\n",
       "      <td>Bronx</td>\n",
       "      <td>Fieldston</td>\n",
       "      <td>40.895437</td>\n",
       "      <td>-73.905643</td>\n",
       "    </tr>\n",
       "    <tr>\n",
       "      <th>4</th>\n",
       "      <td>Bronx</td>\n",
       "      <td>Riverdale</td>\n",
       "      <td>40.890834</td>\n",
       "      <td>-73.912585</td>\n",
       "    </tr>\n",
       "  </tbody>\n",
       "</table>\n",
       "</div>"
      ],
      "text/plain": [
       "  Borough Neighborhood   Latitude  Longitude\n",
       "0   Bronx    Wakefield  40.894705 -73.847201\n",
       "1   Bronx   Co-op City  40.874294 -73.829939\n",
       "2   Bronx  Eastchester  40.887556 -73.827806\n",
       "3   Bronx    Fieldston  40.895437 -73.905643\n",
       "4   Bronx    Riverdale  40.890834 -73.912585"
      ]
     },
     "execution_count": 9,
     "metadata": {},
     "output_type": "execute_result"
    }
   ],
   "source": [
    "new_york_data.head()"
   ]
  },
  {
   "cell_type": "code",
   "execution_count": 10,
   "metadata": {},
   "outputs": [
    {
     "data": {
      "text/plain": [
       "(306, 4)"
      ]
     },
     "execution_count": 10,
     "metadata": {},
     "output_type": "execute_result"
    }
   ],
   "source": [
    "new_york_data.shape"
   ]
  },
  {
   "cell_type": "code",
   "execution_count": 11,
   "metadata": {},
   "outputs": [
    {
     "data": {
      "image/png": "[encoded data removed]",
      "text/plain": [
       "<Figure size 900x500 with 1 Axes>"
      ]
     },
     "metadata": {},
     "output_type": "display_data"
    }
   ],
   "source": [
    "plt.figure(figsize=(9,5), dpi = 100)\n",
    "# title\n",
    "plt.title('Number of Neighborhood for each Borough in New York City')\n",
    "#On x-axis\n",
    "plt.xlabel('Borough', fontsize = 15)\n",
    "#On y-axis\n",
    "plt.ylabel('No.of Neighborhood', fontsize=15)\n",
    "#giving a bar plot\n",
    "new_york_data.groupby('Borough')['Neighborhood'].count().plot(kind='bar')\n",
    "#legend\n",
    "plt.legend()\n",
    "#displays the plot\n",
    "plt.show()"
   ]
  },
  {
   "cell_type": "markdown",
   "metadata": {},
   "source": [
    "\n",
    "\n",
    "#### collect Indian resturants for each Neighborhood\n"
   ]
  },
  {
   "cell_type": "code",
   "execution_count": 19,
   "metadata": {},
   "outputs": [
    {
     "name": "stdout",
     "output_type": "stream",
     "text": [
      "( 1 / 306 ) Indian Resturants in Wakefield, Bronx:0\n",
      "( 2 / 306 ) Indian Resturants in Co-op City, Bronx:0\n",
      "( 3 / 306 ) Indian Resturants in Eastchester, Bronx:0\n",
      "( 4 / 306 ) Indian Resturants in Fieldston, Bronx:0\n",
      "( 5 / 306 ) Indian Resturants in Riverdale, Bronx:1\n",
      "( 6 / 306 ) Indian Resturants in Kingsbridge, Bronx:1\n",
      "( 7 / 306 ) Indian Resturants in Marble Hill, Manhattan:0\n",
      "( 8 / 306 ) Indian Resturants in Woodlawn, Bronx:1\n",
      "( 9 / 306 ) Indian Resturants in Norwood, Bronx:0\n",
      "( 10 / 306 ) Indian Resturants in Williamsbridge, Bronx:1\n",
      "( 11 / 306 ) Indian Resturants in Baychester, Bronx:0\n",
      "( 12 / 306 ) Indian Resturants in Pelham Parkway, Bronx:0\n",
      "( 13 / 306 ) Indian Resturants in City Island, Bronx:0\n",
      "( 14 / 306 ) Indian Resturants in Bedford Park, Bronx:0\n",
      "( 15 / 306 ) Indian Resturants in University Heights, Bronx:0\n",
      "( 16 / 306 ) Indian Resturants in Morris Heights, Bronx:0\n",
      "( 17 / 306 ) Indian Resturants in Fordham, Bronx:0\n",
      "( 18 / 306 ) Indian Resturants in East Tremont, Bronx:0\n",
      "( 19 / 306 ) Indian Resturants in West Farms, Bronx:0\n",
      "( 20 / 306 ) Indian Resturants in High  Bridge, Bronx:0\n",
      "( 21 / 306 ) Indian Resturants in Melrose, Bronx:0\n",
      "( 22 / 306 ) Indian Resturants in Mott Haven, Bronx:0\n",
      "( 23 / 306 ) Indian Resturants in Port Morris, Bronx:0\n",
      "( 24 / 306 ) Indian Resturants in Longwood, Bronx:0\n",
      "( 25 / 306 ) Indian Resturants in Hunts Point, Bronx:0\n",
      "( 26 / 306 ) Indian Resturants in Morrisania, Bronx:0\n",
      "( 27 / 306 ) Indian Resturants in Soundview, Bronx:0\n",
      "( 28 / 306 ) Indian Resturants in Clason Point, Bronx:0\n",
      "( 29 / 306 ) Indian Resturants in Throgs Neck, Bronx:0\n",
      "( 30 / 306 ) Indian Resturants in Country Club, Bronx:0\n",
      "( 31 / 306 ) Indian Resturants in Parkchester, Bronx:1\n",
      "( 32 / 306 ) Indian Resturants in Westchester Square, Bronx:0\n",
      "( 33 / 306 ) Indian Resturants in Van Nest, Bronx:0\n",
      "( 34 / 306 ) Indian Resturants in Morris Park, Bronx:0\n",
      "( 35 / 306 ) Indian Resturants in Belmont, Bronx:0\n",
      "( 36 / 306 ) Indian Resturants in Spuyten Duyvil, Bronx:1\n",
      "( 37 / 306 ) Indian Resturants in North Riverdale, Bronx:0\n",
      "( 38 / 306 ) Indian Resturants in Pelham Bay, Bronx:0\n",
      "( 39 / 306 ) Indian Resturants in Schuylerville, Bronx:0\n",
      "( 40 / 306 ) Indian Resturants in Edgewater Park, Bronx:0\n",
      "( 41 / 306 ) Indian Resturants in Castle Hill, Bronx:0\n",
      "( 42 / 306 ) Indian Resturants in Olinville, Bronx:0\n",
      "( 43 / 306 ) Indian Resturants in Pelham Gardens, Bronx:0\n",
      "( 44 / 306 ) Indian Resturants in Concourse, Bronx:1\n",
      "( 45 / 306 ) Indian Resturants in Unionport, Bronx:1\n",
      "( 46 / 306 ) Indian Resturants in Edenwald, Bronx:0\n",
      "( 47 / 306 ) Indian Resturants in Bay Ridge, Brooklyn:1\n",
      "( 48 / 306 ) Indian Resturants in Bensonhurst, Brooklyn:0\n",
      "( 49 / 306 ) Indian Resturants in Sunset Park, Brooklyn:0\n",
      "( 50 / 306 ) Indian Resturants in Greenpoint, Brooklyn:0\n",
      "( 51 / 306 ) Indian Resturants in Gravesend, Brooklyn:0\n",
      "( 52 / 306 ) Indian Resturants in Brighton Beach, Brooklyn:1\n",
      "( 53 / 306 ) Indian Resturants in Sheepshead Bay, Brooklyn:0\n",
      "( 54 / 306 ) Indian Resturants in Manhattan Terrace, Brooklyn:0\n",
      "( 55 / 306 ) Indian Resturants in Flatbush, Brooklyn:2\n",
      "( 56 / 306 ) Indian Resturants in Crown Heights, Brooklyn:0\n",
      "( 57 / 306 ) Indian Resturants in East Flatbush, Brooklyn:1\n",
      "( 58 / 306 ) Indian Resturants in Kensington, Brooklyn:2\n",
      "( 59 / 306 ) Indian Resturants in Windsor Terrace, Brooklyn:0\n",
      "( 60 / 306 ) Indian Resturants in Prospect Heights, Brooklyn:0\n",
      "( 61 / 306 ) Indian Resturants in Brownsville, Brooklyn:0\n",
      "( 62 / 306 ) Indian Resturants in Williamsburg, Brooklyn:0\n",
      "( 63 / 306 ) Indian Resturants in Bushwick, Brooklyn:0\n",
      "( 64 / 306 ) Indian Resturants in Bedford Stuyvesant, Brooklyn:0\n",
      "( 65 / 306 ) Indian Resturants in Brooklyn Heights, Brooklyn:0\n",
      "( 66 / 306 ) Indian Resturants in Cobble Hill, Brooklyn:0\n",
      "( 67 / 306 ) Indian Resturants in Carroll Gardens, Brooklyn:0\n",
      "( 68 / 306 ) Indian Resturants in Red Hook, Brooklyn:0\n",
      "( 69 / 306 ) Indian Resturants in Gowanus, Brooklyn:0\n",
      "( 70 / 306 ) Indian Resturants in Fort Greene, Brooklyn:1\n",
      "( 71 / 306 ) Indian Resturants in Park Slope, Brooklyn:0\n",
      "( 72 / 306 ) Indian Resturants in Cypress Hills, Brooklyn:0\n",
      "( 73 / 306 ) Indian Resturants in East New York, Brooklyn:0\n",
      "( 74 / 306 ) Indian Resturants in Starrett City, Brooklyn:0\n",
      "( 75 / 306 ) Indian Resturants in Canarsie, Brooklyn:0\n",
      "( 76 / 306 ) Indian Resturants in Flatlands, Brooklyn:0\n",
      "( 77 / 306 ) Indian Resturants in Mill Island, Brooklyn:0\n",
      "( 78 / 306 ) Indian Resturants in Manhattan Beach, Brooklyn:0\n",
      "( 79 / 306 ) Indian Resturants in Coney Island, Brooklyn:0\n",
      "( 80 / 306 ) Indian Resturants in Bath Beach, Brooklyn:0\n",
      "( 81 / 306 ) Indian Resturants in Borough Park, Brooklyn:0\n",
      "( 82 / 306 ) Indian Resturants in Dyker Heights, Brooklyn:0\n",
      "( 83 / 306 ) Indian Resturants in Gerritsen Beach, Brooklyn:0\n",
      "( 84 / 306 ) Indian Resturants in Marine Park, Brooklyn:0\n",
      "( 85 / 306 ) Indian Resturants in Clinton Hill, Brooklyn:2\n",
      "( 86 / 306 ) Indian Resturants in Sea Gate, Brooklyn:0\n",
      "( 87 / 306 ) Indian Resturants in Downtown, Brooklyn:0\n",
      "( 88 / 306 ) Indian Resturants in Boerum Hill, Brooklyn:0\n",
      "( 89 / 306 ) Indian Resturants in Prospect Lefferts Gardens, Brooklyn:2\n",
      "( 90 / 306 ) Indian Resturants in Ocean Hill, Brooklyn:2\n",
      "( 91 / 306 ) Indian Resturants in City Line, Brooklyn:0\n",
      "( 92 / 306 ) Indian Resturants in Bergen Beach, Brooklyn:0\n",
      "( 93 / 306 ) Indian Resturants in Midwood, Brooklyn:0\n",
      "( 94 / 306 ) Indian Resturants in Prospect Park South, Brooklyn:3\n",
      "( 95 / 306 ) Indian Resturants in Georgetown, Brooklyn:0\n",
      "( 96 / 306 ) Indian Resturants in East Williamsburg, Brooklyn:0\n",
      "( 97 / 306 ) Indian Resturants in North Side, Brooklyn:1\n",
      "( 98 / 306 ) Indian Resturants in South Side, Brooklyn:1\n",
      "( 99 / 306 ) Indian Resturants in Ocean Parkway, Brooklyn:0\n",
      "( 100 / 306 ) Indian Resturants in Fort Hamilton, Brooklyn:0\n",
      "( 101 / 306 ) Indian Resturants in Chinatown, Manhattan:0\n",
      "( 102 / 306 ) Indian Resturants in Washington Heights, Manhattan:1\n",
      "( 103 / 306 ) Indian Resturants in Inwood, Manhattan:0\n",
      "( 104 / 306 ) Indian Resturants in Hamilton Heights, Manhattan:2\n",
      "( 105 / 306 ) Indian Resturants in Manhattanville, Manhattan:2\n",
      "( 106 / 306 ) Indian Resturants in Central Harlem, Manhattan:2\n",
      "( 107 / 306 ) Indian Resturants in East Harlem, Manhattan:1\n",
      "( 108 / 306 ) Indian Resturants in Upper East Side, Manhattan:0\n",
      "( 109 / 306 ) Indian Resturants in Yorkville, Manhattan:1\n"
     ]
    },
    {
     "ename": "KeyError",
     "evalue": "'groups'",
     "output_type": "error",
     "traceback": [
      "\u001b[0;31m---------------------------------------------------------------------------\u001b[0m",
      "\u001b[0;31mKeyError\u001b[0m                                  Traceback (most recent call last)",
      "\u001b[0;32m<ipython-input-19-7a917332b722>\u001b[0m in \u001b[0;36m<module>\u001b[0;34m()\u001b[0m\n\u001b[1;32m      5\u001b[0m \u001b[0;32mfor\u001b[0m \u001b[0mrow\u001b[0m \u001b[0;32min\u001b[0m \u001b[0mnew_york_data\u001b[0m\u001b[0;34m.\u001b[0m\u001b[0mvalues\u001b[0m\u001b[0;34m.\u001b[0m\u001b[0mtolist\u001b[0m\u001b[0;34m(\u001b[0m\u001b[0;34m)\u001b[0m\u001b[0;34m:\u001b[0m\u001b[0;34m\u001b[0m\u001b[0m\n\u001b[1;32m      6\u001b[0m     \u001b[0mBorough\u001b[0m\u001b[0;34m,\u001b[0m \u001b[0mNeighborhood\u001b[0m\u001b[0;34m,\u001b[0m \u001b[0mLatitude\u001b[0m\u001b[0;34m,\u001b[0m \u001b[0mLongitude\u001b[0m\u001b[0;34m=\u001b[0m\u001b[0mrow\u001b[0m\u001b[0;34m\u001b[0m\u001b[0m\n\u001b[0;32m----> 7\u001b[0;31m     \u001b[0mvenues\u001b[0m \u001b[0;34m=\u001b[0m \u001b[0mget_venues\u001b[0m\u001b[0;34m(\u001b[0m\u001b[0mLatitude\u001b[0m\u001b[0;34m,\u001b[0m\u001b[0mLongitude\u001b[0m\u001b[0;34m)\u001b[0m\u001b[0;34m\u001b[0m\u001b[0m\n\u001b[0m\u001b[1;32m      8\u001b[0m     \u001b[0mindian_resturants\u001b[0m\u001b[0;34m=\u001b[0m\u001b[0mvenues\u001b[0m\u001b[0;34m[\u001b[0m\u001b[0mvenues\u001b[0m\u001b[0;34m[\u001b[0m\u001b[0;34m'Category'\u001b[0m\u001b[0;34m]\u001b[0m\u001b[0;34m==\u001b[0m\u001b[0;34m'Indian Restaurant'\u001b[0m\u001b[0;34m]\u001b[0m\u001b[0;34m\u001b[0m\u001b[0m\n\u001b[1;32m      9\u001b[0m     \u001b[0mprint\u001b[0m\u001b[0;34m(\u001b[0m\u001b[0;34m'('\u001b[0m\u001b[0;34m,\u001b[0m\u001b[0mcount\u001b[0m\u001b[0;34m,\u001b[0m\u001b[0;34m'/'\u001b[0m\u001b[0;34m,\u001b[0m\u001b[0mlen\u001b[0m\u001b[0;34m(\u001b[0m\u001b[0mnew_york_data\u001b[0m\u001b[0;34m)\u001b[0m\u001b[0;34m,\u001b[0m\u001b[0;34m')'\u001b[0m\u001b[0;34m,\u001b[0m\u001b[0;34m'Indian Resturants in '\u001b[0m\u001b[0;34m+\u001b[0m\u001b[0mNeighborhood\u001b[0m\u001b[0;34m+\u001b[0m\u001b[0;34m', '\u001b[0m\u001b[0;34m+\u001b[0m\u001b[0mBorough\u001b[0m\u001b[0;34m+\u001b[0m\u001b[0;34m':'\u001b[0m\u001b[0;34m+\u001b[0m\u001b[0mstr\u001b[0m\u001b[0;34m(\u001b[0m\u001b[0mlen\u001b[0m\u001b[0;34m(\u001b[0m\u001b[0mindian_resturants\u001b[0m\u001b[0;34m)\u001b[0m\u001b[0;34m)\u001b[0m\u001b[0;34m)\u001b[0m\u001b[0;34m\u001b[0m\u001b[0m\n",
      "\u001b[0;32m<ipython-input-18-eeb204a5e0f5>\u001b[0m in \u001b[0;36mget_venues\u001b[0;34m(lat, lng)\u001b[0m\n\u001b[1;32m     23\u001b[0m     \u001b[0;31m# get all the data\u001b[0m\u001b[0;34m\u001b[0m\u001b[0;34m\u001b[0m\u001b[0m\n\u001b[1;32m     24\u001b[0m     \u001b[0mresults\u001b[0m \u001b[0;34m=\u001b[0m \u001b[0mrequests\u001b[0m\u001b[0;34m.\u001b[0m\u001b[0mget\u001b[0m\u001b[0;34m(\u001b[0m\u001b[0murl\u001b[0m\u001b[0;34m)\u001b[0m\u001b[0;34m.\u001b[0m\u001b[0mjson\u001b[0m\u001b[0;34m(\u001b[0m\u001b[0;34m)\u001b[0m\u001b[0;34m\u001b[0m\u001b[0m\n\u001b[0;32m---> 25\u001b[0;31m     \u001b[0mvenue_data\u001b[0m\u001b[0;34m=\u001b[0m\u001b[0mresults\u001b[0m\u001b[0;34m[\u001b[0m\u001b[0;34m\"response\"\u001b[0m\u001b[0;34m]\u001b[0m\u001b[0;34m[\u001b[0m\u001b[0;34m'groups'\u001b[0m\u001b[0;34m]\u001b[0m\u001b[0;34m[\u001b[0m\u001b[0;36m0\u001b[0m\u001b[0;34m]\u001b[0m\u001b[0;34m[\u001b[0m\u001b[0;34m'items'\u001b[0m\u001b[0;34m]\u001b[0m\u001b[0;34m\u001b[0m\u001b[0m\n\u001b[0m\u001b[1;32m     26\u001b[0m     \u001b[0mvenue_details\u001b[0m\u001b[0;34m=\u001b[0m\u001b[0;34m[\u001b[0m\u001b[0;34m]\u001b[0m\u001b[0;34m\u001b[0m\u001b[0m\n\u001b[1;32m     27\u001b[0m     \u001b[0;32mfor\u001b[0m \u001b[0mrow\u001b[0m \u001b[0;32min\u001b[0m \u001b[0mvenue_data\u001b[0m\u001b[0;34m:\u001b[0m\u001b[0;34m\u001b[0m\u001b[0m\n",
      "\u001b[0;31mKeyError\u001b[0m: 'groups'"
     ]
    }
   ],
   "source": [
    "# prepare neighborhood list that contains indian resturants\n",
    "column_names=['Borough', 'Neighborhood', 'ID','Name']\n",
    "indian_rest_ny=pd.DataFrame(columns=column_names)\n",
    "count=1\n",
    "for row in new_york_data.values.tolist():\n",
    "    Borough, Neighborhood, Latitude, Longitude=row\n",
    "    venues = get_venues(Latitude,Longitude)\n",
    "    indian_resturants=venues[venues['Category']=='Indian Restaurant']   \n",
    "    print('(',count,'/',len(new_york_data),')','Indian Resturants in '+Neighborhood+', '+Borough+':'+str(len(indian_resturants)))\n",
    "    for resturant_detail in indian_resturants.values.tolist():\n",
    "        id, name , category=resturant_detail\n",
    "        indian_rest_ny = indian_rest_ny.append({'Borough': Borough,\n",
    "                                                'Neighborhood': Neighborhood, \n",
    "                                                'ID': id,\n",
    "                                                'Name' : name\n",
    "                                               }, ignore_index=True)\n",
    "    count+=1"
   ]
  },
  {
   "cell_type": "code",
   "execution_count": 20,
   "metadata": {},
   "outputs": [
    {
     "data": {
      "text/html": [
       "<div>\n",
       "<style scoped>\n",
       "    .dataframe tbody tr th:only-of-type {\n",
       "        vertical-align: middle;\n",
       "    }\n",
       "\n",
       "    .dataframe tbody tr th {\n",
       "        vertical-align: top;\n",
       "    }\n",
       "\n",
       "    .dataframe thead th {\n",
       "        text-align: right;\n",
       "    }\n",
       "</style>\n",
       "<table border=\"1\" class=\"dataframe\">\n",
       "  <thead>\n",
       "    <tr style=\"text-align: right;\">\n",
       "      <th></th>\n",
       "      <th>Borough</th>\n",
       "      <th>Neighborhood</th>\n",
       "      <th>ID</th>\n",
       "      <th>Name</th>\n",
       "    </tr>\n",
       "  </thead>\n",
       "  <tbody>\n",
       "    <tr>\n",
       "      <th>0</th>\n",
       "      <td>Bronx</td>\n",
       "      <td>Riverdale</td>\n",
       "      <td>4c04544df423a593ac83d116</td>\n",
       "      <td>Cumin Indian Cuisine</td>\n",
       "    </tr>\n",
       "    <tr>\n",
       "      <th>1</th>\n",
       "      <td>Bronx</td>\n",
       "      <td>Kingsbridge</td>\n",
       "      <td>4c04544df423a593ac83d116</td>\n",
       "      <td>Cumin Indian Cuisine</td>\n",
       "    </tr>\n",
       "    <tr>\n",
       "      <th>2</th>\n",
       "      <td>Bronx</td>\n",
       "      <td>Woodlawn</td>\n",
       "      <td>4c0448d9310fc9b6bf1dc761</td>\n",
       "      <td>Curry Spot</td>\n",
       "    </tr>\n",
       "    <tr>\n",
       "      <th>3</th>\n",
       "      <td>Bronx</td>\n",
       "      <td>Williamsbridge</td>\n",
       "      <td>570c3a3fcd10eecd0d0434cd</td>\n",
       "      <td>Agra Grill</td>\n",
       "    </tr>\n",
       "    <tr>\n",
       "      <th>4</th>\n",
       "      <td>Bronx</td>\n",
       "      <td>Parkchester</td>\n",
       "      <td>4c194631838020a13e78e561</td>\n",
       "      <td>Melanies Roti Bar And Grill</td>\n",
       "    </tr>\n",
       "  </tbody>\n",
       "</table>\n",
       "</div>"
      ],
      "text/plain": [
       "  Borough    Neighborhood                        ID  \\\n",
       "0   Bronx       Riverdale  4c04544df423a593ac83d116   \n",
       "1   Bronx     Kingsbridge  4c04544df423a593ac83d116   \n",
       "2   Bronx        Woodlawn  4c0448d9310fc9b6bf1dc761   \n",
       "3   Bronx  Williamsbridge  570c3a3fcd10eecd0d0434cd   \n",
       "4   Bronx     Parkchester  4c194631838020a13e78e561   \n",
       "\n",
       "                          Name  \n",
       "0         Cumin Indian Cuisine  \n",
       "1         Cumin Indian Cuisine  \n",
       "2                   Curry Spot  \n",
       "3                   Agra Grill  \n",
       "4  Melanies Roti Bar And Grill  "
      ]
     },
     "execution_count": 20,
     "metadata": {},
     "output_type": "execute_result"
    }
   ],
   "source": [
    "indian_rest_ny.head()"
   ]
  },
  {
   "cell_type": "code",
   "execution_count": 21,
   "metadata": {},
   "outputs": [
    {
     "data": {
      "text/plain": [
       "(36, 4)"
      ]
     },
     "execution_count": 21,
     "metadata": {},
     "output_type": "execute_result"
    }
   ],
   "source": [
    "indian_rest_ny.shape"
   ]
  },
  {
   "cell_type": "code",
   "execution_count": 27,
   "metadata": {},
   "outputs": [
    {
     "data": {
      "image/png": "[encoded data removed]",
      "text/plain": [
       "<Figure size 900x500 with 1 Axes>"
      ]
     },
     "metadata": {},
     "output_type": "display_data"
    }
   ],
   "source": [
    "plt.figure(figsize=(9,5), dpi = 100)\n",
    "# title\n",
    "plt.title('Number of Indian Resturants for each Borough in New York City')\n",
    "#On x-axis\n",
    "plt.xlabel('Borough', fontsize = 15)\n",
    "#On y-axis\n",
    "plt.ylabel('No.of Indian Resturants', fontsize=15)\n",
    "#giving a bar plot\n",
    "indian_rest_ny.groupby('Borough')['ID'].count().plot(kind='bar')\n",
    "#legend\n",
    "plt.legend()\n",
    "#displays the plot\n",
    "plt.show()\n"
   ]
  },
  {
   "cell_type": "code",
   "execution_count": 23,
   "metadata": {},
   "outputs": [
    {
     "data": {
      "image/png": "[encoded data removed]",
      "text/plain": [
       "<Figure size 900x500 with 1 Axes>"
      ]
     },
     "metadata": {},
     "output_type": "display_data"
    }
   ],
   "source": [
    "plt.figure(figsize=(9,5), dpi = 100)\n",
    "# title\n",
    "plt.title('Number of Indian Resturants for each Neighborhood in New York City')\n",
    "#On x-axis\n",
    "plt.xlabel('Neighborhood', fontsize = 15)\n",
    "#On y-axis\n",
    "plt.ylabel('No.of Indian Resturants', fontsize=15)\n",
    "#giving a bar plot\n",
    "indian_rest_ny.groupby('Neighborhood')['ID'].count().nlargest(5).plot(kind='bar')\n",
    "#legend\n",
    "plt.legend()\n",
    "#displays the plot\n",
    "plt.show()\n"
   ]
  },
  {
   "cell_type": "code",
   "execution_count": 33,
   "metadata": {},
   "outputs": [
    {
     "data": {
      "text/html": [
       "<div>\n",
       "<style scoped>\n",
       "    .dataframe tbody tr th:only-of-type {\n",
       "        vertical-align: middle;\n",
       "    }\n",
       "\n",
       "    .dataframe tbody tr th {\n",
       "        vertical-align: top;\n",
       "    }\n",
       "\n",
       "    .dataframe thead th {\n",
       "        text-align: right;\n",
       "    }\n",
       "</style>\n",
       "<table border=\"1\" class=\"dataframe\">\n",
       "  <thead>\n",
       "    <tr style=\"text-align: right;\">\n",
       "      <th></th>\n",
       "      <th>Borough</th>\n",
       "      <th>Neighborhood</th>\n",
       "      <th>ID</th>\n",
       "      <th>Name</th>\n",
       "    </tr>\n",
       "  </thead>\n",
       "  <tbody>\n",
       "    <tr>\n",
       "      <th>22</th>\n",
       "      <td>Brooklyn</td>\n",
       "      <td>Prospect Park South</td>\n",
       "      <td>519ff6c8498e1300ddcbd45c</td>\n",
       "      <td>Anarkali Indian Cuisine</td>\n",
       "    </tr>\n",
       "    <tr>\n",
       "      <th>23</th>\n",
       "      <td>Brooklyn</td>\n",
       "      <td>Prospect Park South</td>\n",
       "      <td>4db0f4371e729fcc56497f20</td>\n",
       "      <td>Mashallah</td>\n",
       "    </tr>\n",
       "    <tr>\n",
       "      <th>24</th>\n",
       "      <td>Brooklyn</td>\n",
       "      <td>Prospect Park South</td>\n",
       "      <td>4b718914f964a520c04b2de3</td>\n",
       "      <td>Madina Restaurant and Sweets</td>\n",
       "    </tr>\n",
       "  </tbody>\n",
       "</table>\n",
       "</div>"
      ],
      "text/plain": [
       "     Borough         Neighborhood                        ID  \\\n",
       "22  Brooklyn  Prospect Park South  519ff6c8498e1300ddcbd45c   \n",
       "23  Brooklyn  Prospect Park South  4db0f4371e729fcc56497f20   \n",
       "24  Brooklyn  Prospect Park South  4b718914f964a520c04b2de3   \n",
       "\n",
       "                            Name  \n",
       "22       Anarkali Indian Cuisine  \n",
       "23                     Mashallah  \n",
       "24  Madina Restaurant and Sweets  "
      ]
     },
     "execution_count": 33,
     "metadata": {},
     "output_type": "execute_result"
    }
   ],
   "source": [
    "indian_rest_ny[indian_rest_ny['Neighborhood']=='Prospect Park South']"
   ]
  },
  {
   "cell_type": "markdown",
   "metadata": {},
   "source": [
    "Thus Prospect Park South in Brooklyn has highest number of restaurants i.e 3"
   ]
  },
  {
   "cell_type": "code",
   "execution_count": 34,
   "metadata": {},
   "outputs": [
    {
     "name": "stdout",
     "output_type": "stream",
     "text": [
      "                         ID                  Name  Likes  Rating  Tips\n",
      "0  4c04544df423a593ac83d116  Cumin Indian Cuisine     13     6.5     9\n",
      "( 1 / 36 ) processed\n",
      "                         ID                  Name  Likes  Rating  Tips\n",
      "0  4c04544df423a593ac83d116  Cumin Indian Cuisine     13     6.5     9\n",
      "( 2 / 36 ) processed\n",
      "                         ID        Name  Likes  Rating  Tips\n",
      "0  4c0448d9310fc9b6bf1dc761  Curry Spot      4     7.8    11\n",
      "( 3 / 36 ) processed\n",
      "Empty DataFrame\n",
      "Columns: [ID, Name, Likes, Rating, Tips]\n",
      "Index: []\n",
      "No data available for id= 570c3a3fcd10eecd0d0434cd\n",
      "( 4 / 36 ) processed\n",
      "                         ID                         Name  Likes  Rating  Tips\n",
      "0  4c194631838020a13e78e561  Melanies Roti Bar And Grill      3     6.0     2\n",
      "( 5 / 36 ) processed\n",
      "                         ID                  Name  Likes  Rating  Tips\n",
      "0  4c04544df423a593ac83d116  Cumin Indian Cuisine     13     6.5     9\n",
      "( 6 / 36 ) processed\n",
      "                         ID         Name  Likes  Rating  Tips\n",
      "0  551b7f75498e86c00a0ed2e1  Hungry Bird      8     6.6     3\n",
      "( 7 / 36 ) processed\n",
      "                         ID                         Name  Likes  Rating  Tips\n",
      "0  4c194631838020a13e78e561  Melanies Roti Bar And Grill      3     6.0     2\n",
      "( 8 / 36 ) processed\n",
      "                         ID       Name  Likes  Rating  Tips\n",
      "0  4b5a4dc8f964a520a2bb28e3  Taj Mahal     38     8.3    26\n",
      "( 9 / 36 ) processed\n",
      "                         ID          Name  Likes  Rating  Tips\n",
      "0  4af0d31bf964a5207ddf21e3  Pak Nasheman      9     7.4     4\n",
      "( 10 / 36 ) processed\n",
      "                         ID          Name  Likes  Rating  Tips\n",
      "0  52213c4211d295d4c57a607c  Ashoka Grill      8     7.4    14\n",
      "( 11 / 36 ) processed\n",
      "                         ID                Name  Likes  Rating  Tips\n",
      "0  564d283d498e6e851df79d87  Great Indian Curry      3     6.4     2\n",
      "( 12 / 36 ) processed\n",
      "                         ID          Name  Likes  Rating  Tips\n",
      "0  512a9ea9e4b004fb8eeb84e5  Silver Krust     12     8.2     3\n",
      "( 13 / 36 ) processed\n",
      "                         ID       Name  Likes  Rating  Tips\n",
      "0  4db0f4371e729fcc56497f20  Mashallah     19     7.6     7\n",
      "( 14 / 36 ) processed\n",
      "                         ID                          Name  Likes  Rating  Tips\n",
      "0  4b718914f964a520c04b2de3  Madina Restaurant and Sweets     17     7.0    12\n",
      "( 15 / 36 ) processed\n",
      "                         ID         Name  Likes  Rating  Tips\n",
      "0  57596dad498e732300496b23  Dosa Royale     73     8.7    22\n",
      "( 16 / 36 ) processed\n",
      "                         ID         Name  Likes  Rating  Tips\n",
      "0  57596dad498e732300496b23  Dosa Royale     73     8.7    22\n",
      "( 17 / 36 ) processed\n",
      "                         ID           Name  Likes  Rating  Tips\n",
      "0  568d3902498e619efcbc3f58  Spice & Grill     19     7.8     6\n",
      "( 18 / 36 ) processed\n",
      "                         ID                        Name  Likes  Rating  Tips\n",
      "0  4bb93b70cf2fc9b6fe64a002  Gandhi Fine Indian Cuisine     81     8.7    47\n",
      "( 19 / 36 ) processed\n",
      "                         ID     Name  Likes  Rating  Tips\n",
      "0  4ec80587d3e3e131f2e72835  Bayleaf      7     7.2     7\n",
      "( 20 / 36 ) processed\n",
      "                         ID             Name  Likes  Rating  Tips\n",
      "0  5539753f498edbace4746b67  Tandoori Masala     12     7.9     2\n",
      "( 21 / 36 ) processed\n",
      "                         ID           Name  Likes  Rating  Tips\n",
      "0  4f6cae2ee4b0d4a5afcef5c0  Delhi Heights     22     8.2     8\n",
      "( 22 / 36 ) processed\n",
      "                         ID                     Name  Likes  Rating  Tips\n",
      "0  519ff6c8498e1300ddcbd45c  Anarkali Indian Cuisine     14     7.5     8\n",
      "( 23 / 36 ) processed\n",
      "                         ID       Name  Likes  Rating  Tips\n",
      "0  4db0f4371e729fcc56497f20  Mashallah     19     7.6     7\n",
      "( 24 / 36 ) processed\n",
      "                         ID                          Name  Likes  Rating  Tips\n",
      "0  4b718914f964a520c04b2de3  Madina Restaurant and Sweets     17     7.0    12\n",
      "( 25 / 36 ) processed\n",
      "                         ID                Name  Likes  Rating  Tips\n",
      "0  5631511b498e3d6d7e0a4df0  Tikka Indian Grill     94     8.5    27\n",
      "( 26 / 36 ) processed\n",
      "                         ID                Name  Likes  Rating  Tips\n",
      "0  5631511b498e3d6d7e0a4df0  Tikka Indian Grill     94     8.5    27\n",
      "( 27 / 36 ) processed\n",
      "                         ID                      Name  Likes  Rating  Tips\n",
      "0  4ae7876ef964a5201eac21e3  Kismat Indian Restaurant     45     7.8    24\n",
      "( 28 / 36 ) processed\n",
      "                         ID                           Name  Likes  Rating  \\\n",
      "0  54c2bd96498eaf5142e3fe92  Clove Indian Restaurant & Bar     29     7.6   \n",
      "\n",
      "   Tips  \n",
      "0    15  \n",
      "( 29 / 36 ) processed\n",
      "                         ID           Name  Likes  Rating  Tips\n",
      "0  5914ff32b23dfa207eca38de  Mumbai Masala     13     7.2     6\n",
      "( 30 / 36 ) processed\n",
      "                         ID                 Name  Likes  Rating  Tips\n",
      "0  529d382a11d2dd5ef107e641  Chapati House - NYC     73     7.8    18\n",
      "( 31 / 36 ) processed\n",
      "                         ID                           Name  Likes  Rating  \\\n",
      "0  54c2bd96498eaf5142e3fe92  Clove Indian Restaurant & Bar     29     7.6   \n",
      "\n",
      "   Tips  \n",
      "0    15  \n",
      "( 32 / 36 ) processed\n",
      "                         ID          Name  Likes  Rating  Tips\n",
      "0  56d87f3d498ee215abee5724  Delhi Masala     13     8.6     3\n",
      "( 33 / 36 ) processed\n",
      "                         ID                           Name  Likes  Rating  \\\n",
      "0  54c2bd96498eaf5142e3fe92  Clove Indian Restaurant & Bar     29     7.6   \n",
      "\n",
      "   Tips  \n",
      "0    15  \n",
      "( 34 / 36 ) processed\n",
      "                         ID      Name  Likes  Rating  Tips\n",
      "0  519fe6f5498e30595d370c44  Bawarchi      9     7.8     4\n",
      "( 35 / 36 ) processed\n",
      "                         ID            Name  Likes  Rating  Tips\n",
      "0  5272ca4511d22488f6895caf  Drunken Munkey    207     8.5    61\n",
      "( 36 / 36 ) processed\n"
     ]
    }
   ],
   "source": [
    "# get the ranking of each resturant for further analysis.\n",
    "# prepare neighborhood list that contains indian resturants\n",
    "column_names=['Borough', 'Neighborhood', 'ID','Name','Likes','Rating','Tips']\n",
    "indian_rest_stats_ny=pd.DataFrame(columns=column_names)\n",
    "count=1\n",
    "\n",
    "\n",
    "for row in indian_rest_ny.values.tolist():\n",
    "    Borough,Neighborhood,ID,Name=row\n",
    "    try:\n",
    "        venue_details=get_venue_details(ID)\n",
    "        print(venue_details)\n",
    "        id,name,likes,rating,tips=venue_details.values.tolist()[0]\n",
    "    except IndexError:\n",
    "        print('No data available for id=',ID)\n",
    "        # we will assign 0 value for these resturants as they may have been \n",
    "        #recently opened or details does not exist in FourSquare Database\n",
    "        id,name,likes,rating,tips=[0]*5\n",
    "    print('(',count,'/',len(indian_rest_ny),')','processed')\n",
    "    indian_rest_stats_ny = indian_rest_stats_ny.append({'Borough': Borough,\n",
    "                                                'Neighborhood': Neighborhood, \n",
    "                                                'ID': id,\n",
    "                                                'Name' : name,\n",
    "                                                'Likes' : likes,\n",
    "                                                'Rating' : rating,\n",
    "                                                'Tips' : tips\n",
    "                                               }, ignore_index=True)\n",
    "    count+=1\n"
   ]
  },
  {
   "cell_type": "code",
   "execution_count": 35,
   "metadata": {},
   "outputs": [
    {
     "data": {
      "text/html": [
       "<div>\n",
       "<style scoped>\n",
       "    .dataframe tbody tr th:only-of-type {\n",
       "        vertical-align: middle;\n",
       "    }\n",
       "\n",
       "    .dataframe tbody tr th {\n",
       "        vertical-align: top;\n",
       "    }\n",
       "\n",
       "    .dataframe thead th {\n",
       "        text-align: right;\n",
       "    }\n",
       "</style>\n",
       "<table border=\"1\" class=\"dataframe\">\n",
       "  <thead>\n",
       "    <tr style=\"text-align: right;\">\n",
       "      <th></th>\n",
       "      <th>Borough</th>\n",
       "      <th>Neighborhood</th>\n",
       "      <th>ID</th>\n",
       "      <th>Name</th>\n",
       "      <th>Likes</th>\n",
       "      <th>Rating</th>\n",
       "      <th>Tips</th>\n",
       "    </tr>\n",
       "  </thead>\n",
       "  <tbody>\n",
       "    <tr>\n",
       "      <th>0</th>\n",
       "      <td>Bronx</td>\n",
       "      <td>Riverdale</td>\n",
       "      <td>4c04544df423a593ac83d116</td>\n",
       "      <td>Cumin Indian Cuisine</td>\n",
       "      <td>13</td>\n",
       "      <td>6.5</td>\n",
       "      <td>9</td>\n",
       "    </tr>\n",
       "    <tr>\n",
       "      <th>1</th>\n",
       "      <td>Bronx</td>\n",
       "      <td>Kingsbridge</td>\n",
       "      <td>4c04544df423a593ac83d116</td>\n",
       "      <td>Cumin Indian Cuisine</td>\n",
       "      <td>13</td>\n",
       "      <td>6.5</td>\n",
       "      <td>9</td>\n",
       "    </tr>\n",
       "    <tr>\n",
       "      <th>2</th>\n",
       "      <td>Bronx</td>\n",
       "      <td>Woodlawn</td>\n",
       "      <td>4c0448d9310fc9b6bf1dc761</td>\n",
       "      <td>Curry Spot</td>\n",
       "      <td>4</td>\n",
       "      <td>7.8</td>\n",
       "      <td>11</td>\n",
       "    </tr>\n",
       "    <tr>\n",
       "      <th>3</th>\n",
       "      <td>Bronx</td>\n",
       "      <td>Williamsbridge</td>\n",
       "      <td>0</td>\n",
       "      <td>0</td>\n",
       "      <td>0</td>\n",
       "      <td>0.0</td>\n",
       "      <td>0</td>\n",
       "    </tr>\n",
       "    <tr>\n",
       "      <th>4</th>\n",
       "      <td>Bronx</td>\n",
       "      <td>Parkchester</td>\n",
       "      <td>4c194631838020a13e78e561</td>\n",
       "      <td>Melanies Roti Bar And Grill</td>\n",
       "      <td>3</td>\n",
       "      <td>6.0</td>\n",
       "      <td>2</td>\n",
       "    </tr>\n",
       "  </tbody>\n",
       "</table>\n",
       "</div>"
      ],
      "text/plain": [
       "  Borough    Neighborhood                        ID  \\\n",
       "0   Bronx       Riverdale  4c04544df423a593ac83d116   \n",
       "1   Bronx     Kingsbridge  4c04544df423a593ac83d116   \n",
       "2   Bronx        Woodlawn  4c0448d9310fc9b6bf1dc761   \n",
       "3   Bronx  Williamsbridge                         0   \n",
       "4   Bronx     Parkchester  4c194631838020a13e78e561   \n",
       "\n",
       "                          Name Likes  Rating Tips  \n",
       "0         Cumin Indian Cuisine    13     6.5    9  \n",
       "1         Cumin Indian Cuisine    13     6.5    9  \n",
       "2                   Curry Spot     4     7.8   11  \n",
       "3                            0     0     0.0    0  \n",
       "4  Melanies Roti Bar And Grill     3     6.0    2  "
      ]
     },
     "execution_count": 35,
     "metadata": {},
     "output_type": "execute_result"
    }
   ],
   "source": [
    "indian_rest_stats_ny.head()"
   ]
  },
  {
   "cell_type": "code",
   "execution_count": 36,
   "metadata": {},
   "outputs": [
    {
     "data": {
      "text/plain": [
       "(36, 7)"
      ]
     },
     "execution_count": 36,
     "metadata": {},
     "output_type": "execute_result"
    }
   ],
   "source": [
    "indian_rest_stats_ny.shape"
   ]
  },
  {
   "cell_type": "code",
   "execution_count": 37,
   "metadata": {},
   "outputs": [
    {
     "data": {
      "text/plain": [
       "(36, 4)"
      ]
     },
     "execution_count": 37,
     "metadata": {},
     "output_type": "execute_result"
    }
   ],
   "source": [
    "indian_rest_ny.shape"
   ]
  },
  {
   "cell_type": "code",
   "execution_count": 38,
   "metadata": {},
   "outputs": [],
   "source": [
    "# save data to csv\n",
    "indian_rest_stats_ny.to_csv('indian_rest_stats_ny.csv', index=False)"
   ]
  },
  {
   "cell_type": "code",
   "execution_count": 39,
   "metadata": {},
   "outputs": [
    {
     "data": {
      "text/plain": [
       "(36, 7)"
      ]
     },
     "execution_count": 39,
     "metadata": {},
     "output_type": "execute_result"
    }
   ],
   "source": [
    "# Verify csv data\n",
    "indian_rest_stats_ny_csv=pd.read_csv('indian_rest_stats_ny.csv')\n",
    "indian_rest_stats_ny_csv.shape"
   ]
  },
  {
   "cell_type": "code",
   "execution_count": 40,
   "metadata": {},
   "outputs": [
    {
     "data": {
      "text/html": [
       "<div>\n",
       "<style scoped>\n",
       "    .dataframe tbody tr th:only-of-type {\n",
       "        vertical-align: middle;\n",
       "    }\n",
       "\n",
       "    .dataframe tbody tr th {\n",
       "        vertical-align: top;\n",
       "    }\n",
       "\n",
       "    .dataframe thead th {\n",
       "        text-align: right;\n",
       "    }\n",
       "</style>\n",
       "<table border=\"1\" class=\"dataframe\">\n",
       "  <thead>\n",
       "    <tr style=\"text-align: right;\">\n",
       "      <th></th>\n",
       "      <th>Borough</th>\n",
       "      <th>Neighborhood</th>\n",
       "      <th>ID</th>\n",
       "      <th>Name</th>\n",
       "      <th>Likes</th>\n",
       "      <th>Rating</th>\n",
       "      <th>Tips</th>\n",
       "    </tr>\n",
       "  </thead>\n",
       "  <tbody>\n",
       "    <tr>\n",
       "      <th>0</th>\n",
       "      <td>Bronx</td>\n",
       "      <td>Riverdale</td>\n",
       "      <td>4c04544df423a593ac83d116</td>\n",
       "      <td>Cumin Indian Cuisine</td>\n",
       "      <td>13</td>\n",
       "      <td>6.5</td>\n",
       "      <td>9</td>\n",
       "    </tr>\n",
       "    <tr>\n",
       "      <th>1</th>\n",
       "      <td>Bronx</td>\n",
       "      <td>Kingsbridge</td>\n",
       "      <td>4c04544df423a593ac83d116</td>\n",
       "      <td>Cumin Indian Cuisine</td>\n",
       "      <td>13</td>\n",
       "      <td>6.5</td>\n",
       "      <td>9</td>\n",
       "    </tr>\n",
       "    <tr>\n",
       "      <th>2</th>\n",
       "      <td>Bronx</td>\n",
       "      <td>Woodlawn</td>\n",
       "      <td>4c0448d9310fc9b6bf1dc761</td>\n",
       "      <td>Curry Spot</td>\n",
       "      <td>4</td>\n",
       "      <td>7.8</td>\n",
       "      <td>11</td>\n",
       "    </tr>\n",
       "    <tr>\n",
       "      <th>3</th>\n",
       "      <td>Bronx</td>\n",
       "      <td>Williamsbridge</td>\n",
       "      <td>0</td>\n",
       "      <td>0</td>\n",
       "      <td>0</td>\n",
       "      <td>0.0</td>\n",
       "      <td>0</td>\n",
       "    </tr>\n",
       "    <tr>\n",
       "      <th>4</th>\n",
       "      <td>Bronx</td>\n",
       "      <td>Parkchester</td>\n",
       "      <td>4c194631838020a13e78e561</td>\n",
       "      <td>Melanies Roti Bar And Grill</td>\n",
       "      <td>3</td>\n",
       "      <td>6.0</td>\n",
       "      <td>2</td>\n",
       "    </tr>\n",
       "  </tbody>\n",
       "</table>\n",
       "</div>"
      ],
      "text/plain": [
       "  Borough    Neighborhood                        ID  \\\n",
       "0   Bronx       Riverdale  4c04544df423a593ac83d116   \n",
       "1   Bronx     Kingsbridge  4c04544df423a593ac83d116   \n",
       "2   Bronx        Woodlawn  4c0448d9310fc9b6bf1dc761   \n",
       "3   Bronx  Williamsbridge                         0   \n",
       "4   Bronx     Parkchester  4c194631838020a13e78e561   \n",
       "\n",
       "                          Name  Likes  Rating  Tips  \n",
       "0         Cumin Indian Cuisine     13     6.5     9  \n",
       "1         Cumin Indian Cuisine     13     6.5     9  \n",
       "2                   Curry Spot      4     7.8    11  \n",
       "3                            0      0     0.0     0  \n",
       "4  Melanies Roti Bar And Grill      3     6.0     2  "
      ]
     },
     "execution_count": 40,
     "metadata": {},
     "output_type": "execute_result"
    }
   ],
   "source": [
    "indian_rest_stats_ny_csv.head()"
   ]
  },
  {
   "cell_type": "code",
   "execution_count": 41,
   "metadata": {},
   "outputs": [
    {
     "name": "stdout",
     "output_type": "stream",
     "text": [
      "<class 'pandas.core.frame.DataFrame'>\n",
      "RangeIndex: 36 entries, 0 to 35\n",
      "Data columns (total 7 columns):\n",
      "Borough         36 non-null object\n",
      "Neighborhood    36 non-null object\n",
      "ID              36 non-null object\n",
      "Name            36 non-null object\n",
      "Likes           36 non-null object\n",
      "Rating          36 non-null float64\n",
      "Tips            36 non-null object\n",
      "dtypes: float64(1), object(6)\n",
      "memory usage: 2.0+ KB\n"
     ]
    }
   ],
   "source": [
    "indian_rest_stats_ny.info()"
   ]
  },
  {
   "cell_type": "code",
   "execution_count": 42,
   "metadata": {},
   "outputs": [],
   "source": [
    "# Need certain Preprocessing\n",
    "indian_rest_stats_ny['Likes']=indian_rest_stats_ny['Likes'].astype('float64')\n",
    "indian_rest_stats_ny['Tips']=indian_rest_stats_ny['Tips'].astype('float64')"
   ]
  },
  {
   "cell_type": "code",
   "execution_count": 43,
   "metadata": {},
   "outputs": [
    {
     "name": "stdout",
     "output_type": "stream",
     "text": [
      "<class 'pandas.core.frame.DataFrame'>\n",
      "RangeIndex: 36 entries, 0 to 35\n",
      "Data columns (total 7 columns):\n",
      "Borough         36 non-null object\n",
      "Neighborhood    36 non-null object\n",
      "ID              36 non-null object\n",
      "Name            36 non-null object\n",
      "Likes           36 non-null float64\n",
      "Rating          36 non-null float64\n",
      "Tips            36 non-null float64\n",
      "dtypes: float64(3), object(4)\n",
      "memory usage: 2.0+ KB\n"
     ]
    }
   ],
   "source": [
    "indian_rest_stats_ny.info()"
   ]
  },
  {
   "cell_type": "code",
   "execution_count": 44,
   "metadata": {},
   "outputs": [
    {
     "data": {
      "text/plain": [
       "Borough                        Manhattan\n",
       "Neighborhood                   Yorkville\n",
       "ID              5272ca4511d22488f6895caf\n",
       "Name                      Drunken Munkey\n",
       "Likes                                207\n",
       "Rating                               8.5\n",
       "Tips                                  61\n",
       "Name: 35, dtype: object"
      ]
     },
     "execution_count": 44,
     "metadata": {},
     "output_type": "execute_result"
    }
   ],
   "source": [
    "# Resturant with maximum Likes\n",
    "indian_rest_stats_ny.iloc[indian_rest_stats_ny['Likes'].idxmax()]"
   ]
  },
  {
   "cell_type": "code",
   "execution_count": 45,
   "metadata": {
    "scrolled": true
   },
   "outputs": [
    {
     "data": {
      "text/plain": [
       "Borough                         Brooklyn\n",
       "Neighborhood                 Fort Greene\n",
       "ID              57596dad498e732300496b23\n",
       "Name                         Dosa Royale\n",
       "Likes                                 73\n",
       "Rating                               8.7\n",
       "Tips                                  22\n",
       "Name: 15, dtype: object"
      ]
     },
     "execution_count": 45,
     "metadata": {},
     "output_type": "execute_result"
    }
   ],
   "source": [
    "# Resturant with maximum Rating\n",
    "indian_rest_stats_ny.iloc[indian_rest_stats_ny['Rating'].idxmax()]"
   ]
  },
  {
   "cell_type": "code",
   "execution_count": 46,
   "metadata": {},
   "outputs": [
    {
     "data": {
      "text/plain": [
       "Borough                        Manhattan\n",
       "Neighborhood                   Yorkville\n",
       "ID              5272ca4511d22488f6895caf\n",
       "Name                      Drunken Munkey\n",
       "Likes                                207\n",
       "Rating                               8.5\n",
       "Tips                                  61\n",
       "Name: 35, dtype: object"
      ]
     },
     "execution_count": 46,
     "metadata": {},
     "output_type": "execute_result"
    }
   ],
   "source": [
    "# Resturant with maximum Tips\n",
    "indian_rest_stats_ny.iloc[indian_rest_stats_ny['Tips'].idxmax()]"
   ]
  },
  {
   "cell_type": "code",
   "execution_count": 47,
   "metadata": {},
   "outputs": [],
   "source": [
    "ny_neighborhood_stats=indian_rest_stats_ny.groupby('Neighborhood',as_index=False).mean()[['Neighborhood','Rating']]\n",
    "ny_neighborhood_stats.columns=['Neighborhood','Average Rating']"
   ]
  },
  {
   "cell_type": "code",
   "execution_count": 48,
   "metadata": {},
   "outputs": [
    {
     "data": {
      "text/html": [
       "<div>\n",
       "<style scoped>\n",
       "    .dataframe tbody tr th:only-of-type {\n",
       "        vertical-align: middle;\n",
       "    }\n",
       "\n",
       "    .dataframe tbody tr th {\n",
       "        vertical-align: top;\n",
       "    }\n",
       "\n",
       "    .dataframe thead th {\n",
       "        text-align: right;\n",
       "    }\n",
       "</style>\n",
       "<table border=\"1\" class=\"dataframe\">\n",
       "  <thead>\n",
       "    <tr style=\"text-align: right;\">\n",
       "      <th></th>\n",
       "      <th>Neighborhood</th>\n",
       "      <th>Average Rating</th>\n",
       "    </tr>\n",
       "  </thead>\n",
       "  <tbody>\n",
       "    <tr>\n",
       "      <th>8</th>\n",
       "      <td>Fort Greene</td>\n",
       "      <td>8.70</td>\n",
       "    </tr>\n",
       "    <tr>\n",
       "      <th>13</th>\n",
       "      <td>North Side</td>\n",
       "      <td>8.50</td>\n",
       "    </tr>\n",
       "    <tr>\n",
       "      <th>19</th>\n",
       "      <td>South Side</td>\n",
       "      <td>8.50</td>\n",
       "    </tr>\n",
       "    <tr>\n",
       "      <th>25</th>\n",
       "      <td>Yorkville</td>\n",
       "      <td>8.50</td>\n",
       "    </tr>\n",
       "    <tr>\n",
       "      <th>0</th>\n",
       "      <td>Bay Ridge</td>\n",
       "      <td>8.30</td>\n",
       "    </tr>\n",
       "    <tr>\n",
       "      <th>3</th>\n",
       "      <td>Clinton Hill</td>\n",
       "      <td>8.25</td>\n",
       "    </tr>\n",
       "    <tr>\n",
       "      <th>5</th>\n",
       "      <td>East Flatbush</td>\n",
       "      <td>8.20</td>\n",
       "    </tr>\n",
       "    <tr>\n",
       "      <th>2</th>\n",
       "      <td>Central Harlem</td>\n",
       "      <td>8.10</td>\n",
       "    </tr>\n",
       "    <tr>\n",
       "      <th>14</th>\n",
       "      <td>Ocean Hill</td>\n",
       "      <td>8.05</td>\n",
       "    </tr>\n",
       "    <tr>\n",
       "      <th>16</th>\n",
       "      <td>Prospect Lefferts Gardens</td>\n",
       "      <td>7.95</td>\n",
       "    </tr>\n",
       "  </tbody>\n",
       "</table>\n",
       "</div>"
      ],
      "text/plain": [
       "                 Neighborhood  Average Rating\n",
       "8                 Fort Greene            8.70\n",
       "13                 North Side            8.50\n",
       "19                 South Side            8.50\n",
       "25                  Yorkville            8.50\n",
       "0                   Bay Ridge            8.30\n",
       "3                Clinton Hill            8.25\n",
       "5               East Flatbush            8.20\n",
       "2              Central Harlem            8.10\n",
       "14                 Ocean Hill            8.05\n",
       "16  Prospect Lefferts Gardens            7.95"
      ]
     },
     "execution_count": 48,
     "metadata": {},
     "output_type": "execute_result"
    }
   ],
   "source": [
    "# The top neighborhoods with top average rating of Indian resturants\n",
    "\n",
    "ny_neighborhood_stats.sort_values(['Average Rating'],ascending=False).head(10)"
   ]
  },
  {
   "cell_type": "code",
   "execution_count": 60,
   "metadata": {},
   "outputs": [],
   "source": [
    "ny_borough_stats=indian_rest_stats_ny.groupby('Borough',as_index=False).mean()[['Borough','Rating']]\n",
    "ny_borough_stats.columns=['Borough','Average Rating']"
   ]
  },
  {
   "cell_type": "code",
   "execution_count": 61,
   "metadata": {},
   "outputs": [
    {
     "data": {
      "text/html": [
       "<div>\n",
       "<style scoped>\n",
       "    .dataframe tbody tr th:only-of-type {\n",
       "        vertical-align: middle;\n",
       "    }\n",
       "\n",
       "    .dataframe tbody tr th {\n",
       "        vertical-align: top;\n",
       "    }\n",
       "\n",
       "    .dataframe thead th {\n",
       "        text-align: right;\n",
       "    }\n",
       "</style>\n",
       "<table border=\"1\" class=\"dataframe\">\n",
       "  <thead>\n",
       "    <tr style=\"text-align: right;\">\n",
       "      <th></th>\n",
       "      <th>Borough</th>\n",
       "      <th>Average Rating</th>\n",
       "    </tr>\n",
       "  </thead>\n",
       "  <tbody>\n",
       "    <tr>\n",
       "      <th>2</th>\n",
       "      <td>Manhattan</td>\n",
       "      <td>7.833333</td>\n",
       "    </tr>\n",
       "    <tr>\n",
       "      <th>1</th>\n",
       "      <td>Brooklyn</td>\n",
       "      <td>7.821053</td>\n",
       "    </tr>\n",
       "    <tr>\n",
       "      <th>0</th>\n",
       "      <td>Bronx</td>\n",
       "      <td>5.737500</td>\n",
       "    </tr>\n",
       "  </tbody>\n",
       "</table>\n",
       "</div>"
      ],
      "text/plain": [
       "     Borough  Average Rating\n",
       "2  Manhattan        7.833333\n",
       "1   Brooklyn        7.821053\n",
       "0      Bronx        5.737500"
      ]
     },
     "execution_count": 61,
     "metadata": {},
     "output_type": "execute_result"
    }
   ],
   "source": [
    "ny_borough_stats.sort_values(['Average Rating'],ascending=False).head()"
   ]
  },
  {
   "cell_type": "code",
   "execution_count": 49,
   "metadata": {},
   "outputs": [
    {
     "data": {
      "image/png": "[encoded data removed]",
      "text/plain": [
       "<Figure size 900x500 with 1 Axes>"
      ]
     },
     "metadata": {},
     "output_type": "display_data"
    }
   ],
   "source": [
    "# Visualization\n",
    "plt.figure(figsize=(9,5), dpi = 100)\n",
    "# title\n",
    "plt.title('Average rating of Indian Resturants for each Borough')\n",
    "#On x-axis\n",
    "plt.xlabel('Borough', fontsize = 15)\n",
    "#On y-axis\n",
    "plt.ylabel('Average Rating', fontsize=15)\n",
    "#giving a bar plot\n",
    "indian_rest_stats_ny.groupby('Borough').mean()['Rating'].plot(kind='bar')\n",
    "#legend\n",
    "plt.legend()\n",
    "#displays the plot\n",
    "plt.show()"
   ]
  },
  {
   "cell_type": "code",
   "execution_count": 50,
   "metadata": {},
   "outputs": [],
   "source": [
    "#consider all the neighborhoods with average rating greater or equal 8.0 to visualize on map\n",
    "ny_neighborhood_stats=ny_neighborhood_stats[ny_neighborhood_stats['Average Rating']>=8.0]\n"
   ]
  },
  {
   "cell_type": "code",
   "execution_count": 51,
   "metadata": {},
   "outputs": [
    {
     "data": {
      "text/html": [
       "<div>\n",
       "<style scoped>\n",
       "    .dataframe tbody tr th:only-of-type {\n",
       "        vertical-align: middle;\n",
       "    }\n",
       "\n",
       "    .dataframe tbody tr th {\n",
       "        vertical-align: top;\n",
       "    }\n",
       "\n",
       "    .dataframe thead th {\n",
       "        text-align: right;\n",
       "    }\n",
       "</style>\n",
       "<table border=\"1\" class=\"dataframe\">\n",
       "  <thead>\n",
       "    <tr style=\"text-align: right;\">\n",
       "      <th></th>\n",
       "      <th>Neighborhood</th>\n",
       "      <th>Average Rating</th>\n",
       "    </tr>\n",
       "  </thead>\n",
       "  <tbody>\n",
       "    <tr>\n",
       "      <th>0</th>\n",
       "      <td>Bay Ridge</td>\n",
       "      <td>8.30</td>\n",
       "    </tr>\n",
       "    <tr>\n",
       "      <th>2</th>\n",
       "      <td>Central Harlem</td>\n",
       "      <td>8.10</td>\n",
       "    </tr>\n",
       "    <tr>\n",
       "      <th>3</th>\n",
       "      <td>Clinton Hill</td>\n",
       "      <td>8.25</td>\n",
       "    </tr>\n",
       "    <tr>\n",
       "      <th>5</th>\n",
       "      <td>East Flatbush</td>\n",
       "      <td>8.20</td>\n",
       "    </tr>\n",
       "    <tr>\n",
       "      <th>8</th>\n",
       "      <td>Fort Greene</td>\n",
       "      <td>8.70</td>\n",
       "    </tr>\n",
       "    <tr>\n",
       "      <th>13</th>\n",
       "      <td>North Side</td>\n",
       "      <td>8.50</td>\n",
       "    </tr>\n",
       "    <tr>\n",
       "      <th>14</th>\n",
       "      <td>Ocean Hill</td>\n",
       "      <td>8.05</td>\n",
       "    </tr>\n",
       "    <tr>\n",
       "      <th>19</th>\n",
       "      <td>South Side</td>\n",
       "      <td>8.50</td>\n",
       "    </tr>\n",
       "    <tr>\n",
       "      <th>25</th>\n",
       "      <td>Yorkville</td>\n",
       "      <td>8.50</td>\n",
       "    </tr>\n",
       "  </tbody>\n",
       "</table>\n",
       "</div>"
      ],
      "text/plain": [
       "      Neighborhood  Average Rating\n",
       "0        Bay Ridge            8.30\n",
       "2   Central Harlem            8.10\n",
       "3     Clinton Hill            8.25\n",
       "5    East Flatbush            8.20\n",
       "8      Fort Greene            8.70\n",
       "13      North Side            8.50\n",
       "14      Ocean Hill            8.05\n",
       "19      South Side            8.50\n",
       "25       Yorkville            8.50"
      ]
     },
     "execution_count": 51,
     "metadata": {},
     "output_type": "execute_result"
    }
   ],
   "source": [
    "ny_neighborhood_stats"
   ]
  },
  {
   "cell_type": "code",
   "execution_count": 52,
   "metadata": {},
   "outputs": [],
   "source": [
    "#join this dataset to original new york data to get lonitude and latitude\n",
    "ny_neighborhood_stats=pd.merge(ny_neighborhood_stats,new_york_data, on='Neighborhood')\n",
    "ny_neighborhood_stats=ny_neighborhood_stats[['Borough','Neighborhood','Latitude','Longitude','Average Rating']]"
   ]
  },
  {
   "cell_type": "code",
   "execution_count": 53,
   "metadata": {},
   "outputs": [
    {
     "data": {
      "text/html": [
       "<div>\n",
       "<style scoped>\n",
       "    .dataframe tbody tr th:only-of-type {\n",
       "        vertical-align: middle;\n",
       "    }\n",
       "\n",
       "    .dataframe tbody tr th {\n",
       "        vertical-align: top;\n",
       "    }\n",
       "\n",
       "    .dataframe thead th {\n",
       "        text-align: right;\n",
       "    }\n",
       "</style>\n",
       "<table border=\"1\" class=\"dataframe\">\n",
       "  <thead>\n",
       "    <tr style=\"text-align: right;\">\n",
       "      <th></th>\n",
       "      <th>Borough</th>\n",
       "      <th>Neighborhood</th>\n",
       "      <th>Latitude</th>\n",
       "      <th>Longitude</th>\n",
       "      <th>Average Rating</th>\n",
       "    </tr>\n",
       "  </thead>\n",
       "  <tbody>\n",
       "    <tr>\n",
       "      <th>0</th>\n",
       "      <td>Brooklyn</td>\n",
       "      <td>Bay Ridge</td>\n",
       "      <td>40.625801</td>\n",
       "      <td>-74.030621</td>\n",
       "      <td>8.30</td>\n",
       "    </tr>\n",
       "    <tr>\n",
       "      <th>1</th>\n",
       "      <td>Manhattan</td>\n",
       "      <td>Central Harlem</td>\n",
       "      <td>40.815976</td>\n",
       "      <td>-73.943211</td>\n",
       "      <td>8.10</td>\n",
       "    </tr>\n",
       "    <tr>\n",
       "      <th>2</th>\n",
       "      <td>Brooklyn</td>\n",
       "      <td>Clinton Hill</td>\n",
       "      <td>40.693229</td>\n",
       "      <td>-73.967843</td>\n",
       "      <td>8.25</td>\n",
       "    </tr>\n",
       "    <tr>\n",
       "      <th>3</th>\n",
       "      <td>Brooklyn</td>\n",
       "      <td>East Flatbush</td>\n",
       "      <td>40.641718</td>\n",
       "      <td>-73.936103</td>\n",
       "      <td>8.20</td>\n",
       "    </tr>\n",
       "    <tr>\n",
       "      <th>4</th>\n",
       "      <td>Brooklyn</td>\n",
       "      <td>Fort Greene</td>\n",
       "      <td>40.688527</td>\n",
       "      <td>-73.972906</td>\n",
       "      <td>8.70</td>\n",
       "    </tr>\n",
       "    <tr>\n",
       "      <th>5</th>\n",
       "      <td>Brooklyn</td>\n",
       "      <td>North Side</td>\n",
       "      <td>40.714823</td>\n",
       "      <td>-73.958809</td>\n",
       "      <td>8.50</td>\n",
       "    </tr>\n",
       "    <tr>\n",
       "      <th>6</th>\n",
       "      <td>Brooklyn</td>\n",
       "      <td>Ocean Hill</td>\n",
       "      <td>40.678403</td>\n",
       "      <td>-73.913068</td>\n",
       "      <td>8.05</td>\n",
       "    </tr>\n",
       "    <tr>\n",
       "      <th>7</th>\n",
       "      <td>Brooklyn</td>\n",
       "      <td>South Side</td>\n",
       "      <td>40.710861</td>\n",
       "      <td>-73.958001</td>\n",
       "      <td>8.50</td>\n",
       "    </tr>\n",
       "    <tr>\n",
       "      <th>8</th>\n",
       "      <td>Manhattan</td>\n",
       "      <td>Yorkville</td>\n",
       "      <td>40.775930</td>\n",
       "      <td>-73.947118</td>\n",
       "      <td>8.50</td>\n",
       "    </tr>\n",
       "  </tbody>\n",
       "</table>\n",
       "</div>"
      ],
      "text/plain": [
       "     Borough    Neighborhood   Latitude  Longitude  Average Rating\n",
       "0   Brooklyn       Bay Ridge  40.625801 -74.030621            8.30\n",
       "1  Manhattan  Central Harlem  40.815976 -73.943211            8.10\n",
       "2   Brooklyn    Clinton Hill  40.693229 -73.967843            8.25\n",
       "3   Brooklyn   East Flatbush  40.641718 -73.936103            8.20\n",
       "4   Brooklyn     Fort Greene  40.688527 -73.972906            8.70\n",
       "5   Brooklyn      North Side  40.714823 -73.958809            8.50\n",
       "6   Brooklyn      Ocean Hill  40.678403 -73.913068            8.05\n",
       "7   Brooklyn      South Side  40.710861 -73.958001            8.50\n",
       "8  Manhattan       Yorkville  40.775930 -73.947118            8.50"
      ]
     },
     "execution_count": 53,
     "metadata": {},
     "output_type": "execute_result"
    }
   ],
   "source": [
    "ny_neighborhood_stats"
   ]
  },
  {
   "cell_type": "code",
   "execution_count": 54,
   "metadata": {},
   "outputs": [],
   "source": [
    "# Display data on map\n",
    "ny_map = folium.Map(location=geo_location('New York'), zoom_start=12)"
   ]
  },
  {
   "cell_type": "code",
   "execution_count": 55,
   "metadata": {},
   "outputs": [],
   "source": [
    "# instantiate a feature group for the incidents in the dataframe\n",
    "incidents = folium.map.FeatureGroup()\n",
    "\n",
    "# loop through the 100 crimes and add each to the incidents feature group\n",
    "for lat, lng, in ny_neighborhood_stats[['Latitude','Longitude']].values:\n",
    "    incidents.add_child(\n",
    "        folium.CircleMarker(\n",
    "            [lat, lng],\n",
    "            radius=10, # define how big you want the circle markers to be\n",
    "            color='yellow',\n",
    "            fill=True,\n",
    "            fill_color='blue',\n",
    "            fill_opacity=0.6\n",
    "        )\n",
    "    )"
   ]
  },
  {
   "cell_type": "code",
   "execution_count": 56,
   "metadata": {},
   "outputs": [],
   "source": [
    "ny_neighborhood_stats['Label']=ny_neighborhood_stats['Neighborhood']+', '+ny_neighborhood_stats['Borough']+'('+ny_neighborhood_stats['Average Rating'].map(str)+')'"
   ]
  },
  {
   "cell_type": "code",
   "execution_count": 57,
   "metadata": {},
   "outputs": [
    {
     "data": {
      "text/html": [
       "<div style=\"width:100%;\"><div style=\"position:relative;width:100%;height:0;padding-bottom:60%;\"><iframe src=\"data:text/html;charset=utf-8;base64,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\" style=\"position:absolute;width:100%;height:100%;left:0;top:0;border:none !important;\" allowfullscreen webkitallowfullscreen mozallowfullscreen></iframe></div></div>"
      ],
      "text/plain": [
       "<folium.folium.Map at 0x7fe9e1c5c7b8>"
      ]
     },
     "execution_count": 57,
     "metadata": {},
     "output_type": "execute_result"
    }
   ],
   "source": [
    "# add pop-up text to each marker on the map\n",
    "for lat, lng, label in ny_neighborhood_stats[['Latitude','Longitude','Label']].values:\n",
    "    folium.Marker([lat, lng], popup=label).add_to(ny_map)        \n",
    "# add incidents to map\n",
    "ny_map.add_child(incidents)"
   ]
  },
  {
   "cell_type": "markdown",
   "metadata": {},
   "source": [
    "### Discussion\n",
    "The analysis has been carried out to list and visualize all major parts of New York City that has great indian resturants. The restaurant with varous attribues like  maximum likes, rating and tips is also provided. The accuracy of data is  completely depends on the data provided by FourSquare."
   ]
  },
  {
   "cell_type": "markdown",
   "metadata": {},
   "source": [
    "### Conclusion\n",
    "\n",
    "1. Brooklyn has the largest  number of Indian Resturants.\n",
    "\n",
    "2. The Prospect Park South in Brooklyn has the highest number of restaurants i.e 3.\n",
    "\n",
    "3. Bay Ridge (Brooklyn), Central Harlem (Manhattan), Clinton Hill (Brooklyn) are some of the best neighborhoods for indian cuisine.\n",
    "\n",
    "4. Manhattan and Brooklyn are the best places to stay if you prefer Indian Cuisine. Though Manhattan ranks first and Brooklyn ranks second in ranking ; the difference in their average rating is minimal i.e Manahtten is with 7.83 and Brooklyn is with 7.82.\n",
    "\n"
   ]
  }
 ],
 "metadata": {
  "kernelspec": {
   "display_name": "Python 2",
   "language": "python",
   "name": "python2"
  },
  "language_info": {
   "codemirror_mode": {
    "name": "ipython",
    "version": 3
   },
   "file_extension": ".py",
   "mimetype": "text/x-python",
   "name": "python",
   "nbconvert_exporter": "python",
   "pygments_lexer": "ipython3",
   "version": "3.5.2"
  }
 },
 "nbformat": 4,
 "nbformat_minor": 2
}
