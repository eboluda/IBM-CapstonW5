{
 "cells": [
  {
   "cell_type": "markdown",
   "metadata": {},
   "source": [
    "# Capstone Project - The Battle of neighborhoods"
   ]
  },
  {
   "cell_type": "markdown",
   "metadata": {},
   "source": [
    "### Data \n",
    "The objective of this project is to list and visualize all major parts of New York City that has great Indian restaurants. This section elborates the data used to accomplish the project.\n",
    "\n",
    "\n",
    "#### New York City data that contains list Boroughs, Neighborhoods along with their latitude and longitude.\n",
    " \n",
    "Data source : https://cocl.us/new_york_dataset\n",
    "\n",
    "Description : This data set contains the required information. And we will use this data set to explore various neighborhoods of new york city.\n",
    " \n",
    "#### Indian restaurants in each neighborhood of new york city.\n",
    "        \n",
    "Data source : Foursquare API\n",
    "\n",
    "Description : By using this api we will get all the venues in each neighborhood. We can filter these venues to get only indian resturants.\n",
    "     \n",
    "#### GeoSpace data\n",
    "        \n",
    "Data source : https://data.cityofnewyork.us/City-Government/Borough-Boundaries/tqmj-j8zm\n",
    "\n",
    "Description : By using this geospace data we will get the New york Borough boundaries that will help us visualize choropleth map.\n",
    "  "
   ]
  },
  {
   "cell_type": "code",
   "execution_count": null,
   "metadata": {},
   "outputs": [],
   "source": []
  }
 ],
 "metadata": {
  "kernelspec": {
   "display_name": "Python 2",
   "language": "python",
   "name": "python2"
  },
  "language_info": {
   "codemirror_mode": {
    "name": "ipython",
    "version": 3
   },
   "file_extension": ".py",
   "mimetype": "text/x-python",
   "name": "python",
   "nbconvert_exporter": "python",
   "pygments_lexer": "ipython3",
   "version": "3.5.2"
  }
 },
 "nbformat": 4,
 "nbformat_minor": 2
}
